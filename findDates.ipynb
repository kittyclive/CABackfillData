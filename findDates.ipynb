{
 "cells": [
  {
   "cell_type": "code",
   "execution_count": 99,
   "metadata": {},
   "outputs": [],
   "source": [
    "import pandas as pd\n",
    "from thunderpack import ThunderReader\n",
    "from openpyxl import load_workbook\n",
    "from openpyxl import load_workbook"
   ]
  },
  {
   "cell_type": "code",
   "execution_count": 106,
   "metadata": {},
   "outputs": [
    {
     "name": "stdout",
     "output_type": "stream",
     "text": [
      "1107\n"
     ]
    }
   ],
   "source": [
    "patientsDF = pd.read_csv('/media/cdac-c-15/External Drive/Dropbox/cardiac arrest project/cardiac_filtered_bi_with_birthdeath.csv')\n",
    "patients = set(patientsDF['BDSPPatientID'])\n",
    "print(len(patientsDF))"
   ]
  },
  {
   "cell_type": "code",
   "execution_count": 108,
   "metadata": {},
   "outputs": [
    {
     "name": "stdout",
     "output_type": "stream",
     "text": [
      "1032\n",
      "236\n"
     ]
    }
   ],
   "source": [
    "patientsDF = patientsDF.drop_duplicates()\n",
    "print(len(patientsDF))\n",
    "print(len(patients))"
   ]
  },
  {
   "cell_type": "code",
   "execution_count": 109,
   "metadata": {},
   "outputs": [],
   "source": [
    "#find all transfer records for patients in my group\n",
    "reader = ThunderReader('/media/cdac-c-15/External Drive/Dropbox/zz_EHR_Thunderpacks/BIDMC/thunderpack_adt_nax_1m_BIDMC')\n",
    "\n",
    "#find notes that have had an eeg\n",
    "events = []\n",
    "for i in range(1, (len(list(reader.keys())) + 1)):\n",
    "    event = reader[f'adt_partition_{i}']\n",
    "    event = event[event['bdsppatientid'].isin(patients)]\n",
    "    events.append(event)\n",
    "    del event\n",
    "\n",
    "allEvents = pd.concat(events, axis=0, ignore_index=True)     #puts data into rows and columns\n",
    "del events"
   ]
  },
  {
   "cell_type": "code",
   "execution_count": 110,
   "metadata": {},
   "outputs": [
    {
     "name": "stdout",
     "output_type": "stream",
     "text": [
      "236\n"
     ]
    }
   ],
   "source": [
    "# Filter admit to transfer rows\n",
    "admit_to_transfer = allEvents[(allEvents['ineventdsc'] == 'admit') & (allEvents['outeventdsc'] == 'transfer')]\n",
    "\n",
    "# Filter transfer to discharge & admit to transfer\n",
    "transfer_to_discharge = allEvents[(allEvents['ineventdsc'] == 'transfer') & (allEvents['outeventdsc'] == 'discharge')]\n",
    "admit_to_discharge = allEvents[(allEvents['ineventdsc'] == 'admit') & (allEvents['outeventdsc'] == 'discharge')]\n",
    "\n",
    "# Merge the admit_to_transfer and transfer_to_discharge on 'bdspencounterid'\n",
    "intermediate_merge = pd.merge(admit_to_transfer[['bdspencounterid', 'transferindts', 'bdsppatientid']],\n",
    "                              transfer_to_discharge[['bdspencounterid', 'transferoutdts', 'bdsppatientid']],\n",
    "                              on=('bdspencounterid', 'bdsppatientid'),\n",
    "                              how='inner')\n",
    "\n",
    "# Combine the direct admit_to_discharge rows with the merged intermediate data\n",
    "allData = pd.concat( [admit_to_discharge[['bdsppatientid', 'transferindts', 'transferoutdts','bdspencounterid']],intermediate_merge[['bdspencounterid', 'bdsppatientid', 'transferindts', 'transferoutdts']]] , ignore_index=True)\n",
    "print(allData['bdsppatientid'].nunique())"
   ]
  },
  {
   "cell_type": "code",
   "execution_count": 111,
   "metadata": {},
   "outputs": [
    {
     "name": "stdout",
     "output_type": "stream",
     "text": [
      "1032\n"
     ]
    }
   ],
   "source": [
    "# filter so only patients of interest are included in the resulting dataframe\n",
    "patientsDF['EEGDate'] = pd.to_datetime(patientsDF['EEGDate'])\n",
    "allData['transferindts'] = pd.to_datetime(allData['transferindts'])\n",
    "allData['transferoutdts'] = pd.to_datetime(allData['transferoutdts'])\n",
    "\n",
    "# Merge the two DataFrames on 'BDSPPatientID'\n",
    "merged_df = pd.merge(patientsDF, allData, left_on='BDSPPatientID', right_on='bdsppatientid', how='left')\n",
    "\n",
    "# Filter based on whether 'EEGDate' is between 'transferindts' and 'transferoutdts'\n",
    "filtered_df = merged_df[(merged_df['EEGDate'] >= merged_df['transferindts']) & (merged_df['EEGDate'] <= merged_df['transferoutdts'])]\n",
    "\n",
    "# Group by 'BDSPPatientID' and 'EEGDate' to retain only the first match\n",
    "filtered_df = filtered_df.groupby(['BDSPPatientID', 'EEGDate']).first().reset_index()\n",
    "\n",
    "# Merge back with the original DataFrame to retain all rows and add the filtered columns\n",
    "final_df = pd.merge(patientsDF, filtered_df[['BDSPPatientID', 'EEGDate', 'transferindts', 'transferoutdts']], on=['BDSPPatientID', 'EEGDate'], how='left')\n",
    "\n",
    "# Display the final DataFrame\n",
    "print(len(final_df))"
   ]
  },
  {
   "cell_type": "code",
   "execution_count": 112,
   "metadata": {},
   "outputs": [],
   "source": [
    "# Create excel workbook to give rajib with all site 1 and site 2 patients on different pages\n",
    "path = '/home/cdac-c-15/Desktop/newSpreadsheetWithAdmitDischargeDates.xlsx'\n",
    "\n",
    "# Create an Excel writer object and write each DataFrame to a different sheet\n",
    "with pd.ExcelWriter(path, engine='openpyxl') as writer:\n",
    "    final_df.to_excel(writer, sheet_name='All Patients', index=False)"
   ]
  }
 ],
 "metadata": {
  "kernelspec": {
   "display_name": "nax",
   "language": "python",
   "name": "python3"
  },
  "language_info": {
   "codemirror_mode": {
    "name": "ipython",
    "version": 3
   },
   "file_extension": ".py",
   "mimetype": "text/x-python",
   "name": "python",
   "nbconvert_exporter": "python",
   "pygments_lexer": "ipython3",
   "version": "3.11.9"
  }
 },
 "nbformat": 4,
 "nbformat_minor": 2
}
