{
 "cells": [
  {
   "cell_type": "code",
   "execution_count": 2,
   "metadata": {},
   "outputs": [],
   "source": [
    "import pandas as pd\n",
    "from thunderpack import ThunderReader\n",
    "from openpyxl import load_workbook"
   ]
  },
  {
   "cell_type": "code",
   "execution_count": 3,
   "metadata": {},
   "outputs": [
    {
     "name": "stdout",
     "output_type": "stream",
     "text": [
      "2523\n"
     ]
    },
    {
     "data": {
      "text/html": [
       "<div>\n",
       "<style scoped>\n",
       "    .dataframe tbody tr th:only-of-type {\n",
       "        vertical-align: middle;\n",
       "    }\n",
       "\n",
       "    .dataframe tbody tr th {\n",
       "        vertical-align: top;\n",
       "    }\n",
       "\n",
       "    .dataframe thead th {\n",
       "        text-align: right;\n",
       "    }\n",
       "</style>\n",
       "<table border=\"1\" class=\"dataframe\">\n",
       "  <thead>\n",
       "    <tr style=\"text-align: right;\">\n",
       "      <th></th>\n",
       "      <th>PatientID</th>\n",
       "      <th>EncounterID</th>\n",
       "    </tr>\n",
       "  </thead>\n",
       "  <tbody>\n",
       "    <tr>\n",
       "      <th>0</th>\n",
       "      <td>111249291</td>\n",
       "      <td>1565487169</td>\n",
       "    </tr>\n",
       "    <tr>\n",
       "      <th>1</th>\n",
       "      <td>111249291</td>\n",
       "      <td>1565487169</td>\n",
       "    </tr>\n",
       "    <tr>\n",
       "      <th>2</th>\n",
       "      <td>111249291</td>\n",
       "      <td>1565487169</td>\n",
       "    </tr>\n",
       "    <tr>\n",
       "      <th>3</th>\n",
       "      <td>111249291</td>\n",
       "      <td>1565487169</td>\n",
       "    </tr>\n",
       "    <tr>\n",
       "      <th>4</th>\n",
       "      <td>111249291</td>\n",
       "      <td>1565487169</td>\n",
       "    </tr>\n",
       "  </tbody>\n",
       "</table>\n",
       "</div>"
      ],
      "text/plain": [
       "   PatientID  EncounterID\n",
       "0  111249291   1565487169\n",
       "1  111249291   1565487169\n",
       "2  111249291   1565487169\n",
       "3  111249291   1565487169\n",
       "4  111249291   1565487169"
      ]
     },
     "execution_count": 3,
     "metadata": {},
     "output_type": "execute_result"
    }
   ],
   "source": [
    "#get list of patients with missing discharge date from excel file\n",
    "#include patient ID and encounter ID in the list\n",
    "df = pd.read_excel('/home/cdac-c-15/Desktop/cardiac_filtered_orginal.xlsx')\n",
    "\n",
    "missingDataPIDs = df[df['HospitalDischargeDTS'].isna()]['BDSPPatientID'].tolist()\n",
    "missingDataEIDs = df[df['HospitalDischargeDTS'].isna()]['BDSPEncounterID'].tolist()\n",
    "dfNoDischargeDate = pd.DataFrame({\n",
    "    'PatientID': missingDataPIDs,\n",
    "    'EncounterID': missingDataEIDs\n",
    "})\n",
    "print(len(dfNoDischargeDate))\n",
    "dfNoDischargeDate.head()"
   ]
  },
  {
   "cell_type": "code",
   "execution_count": null,
   "metadata": {},
   "outputs": [],
   "source": [
    "contains_pair = ((dfNoDischargeDate['PatientID'] == 111227152) & (dfNoDischargeDate['EncounterID'] == 533711015)).any()\n",
    "print(f\"{contains_pair}\")\n",
    "\n",
    "#checking that the list contains the correct pairs. true for 2 different IDS\n",
    "#bad ids check? passed for both lists\n",
    "#good ids check? passed for both lists\n"
   ]
  },
  {
   "cell_type": "code",
   "execution_count": 4,
   "metadata": {},
   "outputs": [
    {
     "name": "stdout",
     "output_type": "stream",
     "text": [
      "491\n"
     ]
    },
    {
     "data": {
      "text/html": [
       "<div>\n",
       "<style scoped>\n",
       "    .dataframe tbody tr th:only-of-type {\n",
       "        vertical-align: middle;\n",
       "    }\n",
       "\n",
       "    .dataframe tbody tr th {\n",
       "        vertical-align: top;\n",
       "    }\n",
       "\n",
       "    .dataframe thead th {\n",
       "        text-align: right;\n",
       "    }\n",
       "</style>\n",
       "<table border=\"1\" class=\"dataframe\">\n",
       "  <thead>\n",
       "    <tr style=\"text-align: right;\">\n",
       "      <th></th>\n",
       "      <th>PatientID</th>\n",
       "      <th>EncounterID</th>\n",
       "    </tr>\n",
       "  </thead>\n",
       "  <tbody>\n",
       "    <tr>\n",
       "      <th>0</th>\n",
       "      <td>111249291</td>\n",
       "      <td>1565487169</td>\n",
       "    </tr>\n",
       "    <tr>\n",
       "      <th>5</th>\n",
       "      <td>111317668</td>\n",
       "      <td>1602997059</td>\n",
       "    </tr>\n",
       "    <tr>\n",
       "      <th>14</th>\n",
       "      <td>111317668</td>\n",
       "      <td>1602996931</td>\n",
       "    </tr>\n",
       "    <tr>\n",
       "      <th>20</th>\n",
       "      <td>111504344</td>\n",
       "      <td>1625646484</td>\n",
       "    </tr>\n",
       "    <tr>\n",
       "      <th>29</th>\n",
       "      <td>111701935</td>\n",
       "      <td>1626494441</td>\n",
       "    </tr>\n",
       "  </tbody>\n",
       "</table>\n",
       "</div>"
      ],
      "text/plain": [
       "    PatientID  EncounterID\n",
       "0   111249291   1565487169\n",
       "5   111317668   1602997059\n",
       "14  111317668   1602996931\n",
       "20  111504344   1625646484\n",
       "29  111701935   1626494441"
      ]
     },
     "execution_count": 4,
     "metadata": {},
     "output_type": "execute_result"
    }
   ],
   "source": [
    "# create list of patients that has no duplicates \n",
    "noDischPID = dfNoDischargeDate['EncounterID']\n",
    "noDischPID = dfNoDischargeDate.drop_duplicates()\n",
    "print(len(noDischPID))\n",
    "noDischPID.head()"
   ]
  },
  {
   "cell_type": "code",
   "execution_count": 5,
   "metadata": {},
   "outputs": [
    {
     "name": "stdout",
     "output_type": "stream",
     "text": [
      "47\n"
     ]
    }
   ],
   "source": [
    "reader = ThunderReader('/media/cdac-c-15/Thunderpack/Dropbox/zz_EHR_Thunderpacks/MGB/thunderpack_adt_1m_MGB/')\n",
    "print(len(list(reader.keys())))"
   ]
  },
  {
   "cell_type": "code",
   "execution_count": 6,
   "metadata": {},
   "outputs": [],
   "source": [
    "# could use adt (transfer notes)\n",
    "# \n",
    "# FIXME:this does not work, adt partition is wrong\n",
    "\n",
    "dfs = []\n",
    "for i in range(1, (len(list(reader.keys())) + 1)):\n",
    "    df = reader[f'adt_main_partition_{i}']\n",
    "    dfc = df[df['BDSPEncounterID'].isin(noDischPID['EncounterID'])]\n",
    "    dfs.append(df)"
   ]
  },
  {
   "cell_type": "code",
   "execution_count": 7,
   "metadata": {},
   "outputs": [
    {
     "name": "stdout",
     "output_type": "stream",
     "text": [
      "295931\n"
     ]
    },
    {
     "data": {
      "text/html": [
       "<div>\n",
       "<style scoped>\n",
       "    .dataframe tbody tr th:only-of-type {\n",
       "        vertical-align: middle;\n",
       "    }\n",
       "\n",
       "    .dataframe tbody tr th {\n",
       "        vertical-align: top;\n",
       "    }\n",
       "\n",
       "    .dataframe thead th {\n",
       "        text-align: right;\n",
       "    }\n",
       "</style>\n",
       "<table border=\"1\" class=\"dataframe\">\n",
       "  <thead>\n",
       "    <tr style=\"text-align: right;\">\n",
       "      <th></th>\n",
       "      <th>BDSPPatientID</th>\n",
       "      <th>BDSPEncounterID</th>\n",
       "      <th>InEventDSC</th>\n",
       "      <th>OutEventDSC</th>\n",
       "      <th>SpecialtyNM</th>\n",
       "      <th>ReportGrouper10DSC</th>\n",
       "      <th>PatientClassDSC</th>\n",
       "      <th>TransferInDTS</th>\n",
       "      <th>TransferOutDTS</th>\n",
       "      <th>BDSPLastModifiedDTS</th>\n",
       "    </tr>\n",
       "  </thead>\n",
       "  <tbody>\n",
       "    <tr>\n",
       "      <th>0</th>\n",
       "      <td>119675700</td>\n",
       "      <td>13294293869</td>\n",
       "      <td>Hospital Outpatient</td>\n",
       "      <td>Discharge</td>\n",
       "      <td>Radiology</td>\n",
       "      <td>Hospital Outpatient</td>\n",
       "      <td>Outpatient</td>\n",
       "      <td>2016-11-28 07:10:00.0000000</td>\n",
       "      <td>2016-11-28 07:27:00.0000000</td>\n",
       "      <td>2022-07-28 22:19:00.3200000</td>\n",
       "    </tr>\n",
       "    <tr>\n",
       "      <th>1</th>\n",
       "      <td>117444816</td>\n",
       "      <td>13290108151</td>\n",
       "      <td>Hospital Outpatient</td>\n",
       "      <td>Discharge</td>\n",
       "      <td>Pathology</td>\n",
       "      <td>Virtual Department</td>\n",
       "      <td>Outpatient</td>\n",
       "      <td>2015-03-09 08:41:00.0000000</td>\n",
       "      <td>2015-03-09 23:59:00.0000000</td>\n",
       "      <td>2022-07-28 22:19:00.3200000</td>\n",
       "    </tr>\n",
       "    <tr>\n",
       "      <th>2</th>\n",
       "      <td>120024142</td>\n",
       "      <td>13253605616</td>\n",
       "      <td>Transfer In</td>\n",
       "      <td>Transfer Out</td>\n",
       "      <td>Obstetrics</td>\n",
       "      <td>Virtual Department</td>\n",
       "      <td>Inpatient</td>\n",
       "      <td>2015-03-23 10:04:00.0000000</td>\n",
       "      <td>2015-03-23 10:05:00.0000000</td>\n",
       "      <td>2022-07-28 22:19:00.3200000</td>\n",
       "    </tr>\n",
       "    <tr>\n",
       "      <th>3</th>\n",
       "      <td>120507159</td>\n",
       "      <td>13233501255</td>\n",
       "      <td>Hospital Outpatient</td>\n",
       "      <td>Discharge</td>\n",
       "      <td>Radiology</td>\n",
       "      <td>Hospital Outpatient</td>\n",
       "      <td>Outpatient</td>\n",
       "      <td>2016-08-25 11:00:00.0000000</td>\n",
       "      <td>2016-08-25 23:59:00.0000000</td>\n",
       "      <td>2022-07-28 22:19:00.3200000</td>\n",
       "    </tr>\n",
       "    <tr>\n",
       "      <th>4</th>\n",
       "      <td>112546413</td>\n",
       "      <td>13260004012</td>\n",
       "      <td>Hospital Outpatient</td>\n",
       "      <td>Discharge</td>\n",
       "      <td>Lab</td>\n",
       "      <td>Hospital Outpatient</td>\n",
       "      <td>Outpatient</td>\n",
       "      <td>2015-07-27 08:37:00.0000000</td>\n",
       "      <td>2015-07-27 23:59:00.0000000</td>\n",
       "      <td>2022-07-28 22:19:00.3200000</td>\n",
       "    </tr>\n",
       "  </tbody>\n",
       "</table>\n",
       "</div>"
      ],
      "text/plain": [
       "  BDSPPatientID BDSPEncounterID           InEventDSC   OutEventDSC  \\\n",
       "0     119675700     13294293869  Hospital Outpatient     Discharge   \n",
       "1     117444816     13290108151  Hospital Outpatient     Discharge   \n",
       "2     120024142     13253605616          Transfer In  Transfer Out   \n",
       "3     120507159     13233501255  Hospital Outpatient     Discharge   \n",
       "4     112546413     13260004012  Hospital Outpatient     Discharge   \n",
       "\n",
       "  SpecialtyNM   ReportGrouper10DSC PatientClassDSC  \\\n",
       "0   Radiology  Hospital Outpatient      Outpatient   \n",
       "1   Pathology   Virtual Department      Outpatient   \n",
       "2  Obstetrics   Virtual Department       Inpatient   \n",
       "3   Radiology  Hospital Outpatient      Outpatient   \n",
       "4         Lab  Hospital Outpatient      Outpatient   \n",
       "\n",
       "                 TransferInDTS               TransferOutDTS  \\\n",
       "0  2016-11-28 07:10:00.0000000  2016-11-28 07:27:00.0000000   \n",
       "1  2015-03-09 08:41:00.0000000  2015-03-09 23:59:00.0000000   \n",
       "2  2015-03-23 10:04:00.0000000  2015-03-23 10:05:00.0000000   \n",
       "3  2016-08-25 11:00:00.0000000  2016-08-25 23:59:00.0000000   \n",
       "4  2015-07-27 08:37:00.0000000  2015-07-27 23:59:00.0000000   \n",
       "\n",
       "           BDSPLastModifiedDTS  \n",
       "0  2022-07-28 22:19:00.3200000  \n",
       "1  2022-07-28 22:19:00.3200000  \n",
       "2  2022-07-28 22:19:00.3200000  \n",
       "3  2022-07-28 22:19:00.3200000  \n",
       "4  2022-07-28 22:19:00.3200000  "
      ]
     },
     "execution_count": 7,
     "metadata": {},
     "output_type": "execute_result"
    }
   ],
   "source": [
    "filtered_icd_df = pd.concat(dfs, axis=0, ignore_index=True)     #puts data into rows and columns\n",
    "print(len(df))      #print the number of notes found with those ICD codes\n",
    "filtered_icd_df.head()      #print the first few lines of the filtered list of notes"
   ]
  },
  {
   "cell_type": "code",
   "execution_count": 11,
   "metadata": {},
   "outputs": [],
   "source": [
    "filtered_icd_df = filtered_icd_df[filtered_icd_df['OutEventDSC'] == 'Discharge']\n",
    "filtered_icd_df['TransferOutDTS'] = pd.to_datetime(filtered_icd_df['TransferOutDTS'])\n",
    "filtered_icd_df.head()"
   ]
  },
  {
   "cell_type": "code",
   "execution_count": null,
   "metadata": {},
   "outputs": [
    {
     "ename": "NameError",
     "evalue": "name 'filtered_icd_df' is not defined",
     "output_type": "error",
     "traceback": [
      "\u001b[0;31m---------------------------------------------------------------------------\u001b[0m\n",
      "\u001b[0;31mNameError\u001b[0m                                 Traceback (most recent call last)\n",
      "Cell \u001b[0;32mIn[7], line 2\u001b[0m\n",
      "\u001b[1;32m      1\u001b[0m \u001b[38;5;66;03m#merge dfs to make dfs contain missing data\u001b[39;00m\n",
      "\u001b[0;32m----> 2\u001b[0m dfNoDischargeDate \u001b[38;5;241m=\u001b[39m pd\u001b[38;5;241m.\u001b[39mmerge(\u001b[43mfiltered_icd_df\u001b[49m, dfNoDischargeDate, left_on\u001b[38;5;241m=\u001b[39m[\u001b[38;5;124m'\u001b[39m\u001b[38;5;124mBDSPPatientID\u001b[39m\u001b[38;5;124m'\u001b[39m, \u001b[38;5;124m'\u001b[39m\u001b[38;5;124mBDSPEncounterID\u001b[39m\u001b[38;5;124m'\u001b[39m], right_on\u001b[38;5;241m=\u001b[39m[\u001b[38;5;124m'\u001b[39m\u001b[38;5;124mPatientID\u001b[39m\u001b[38;5;124m'\u001b[39m, \u001b[38;5;124m'\u001b[39m\u001b[38;5;124mEncounterID\u001b[39m\u001b[38;5;124m'\u001b[39m], how\u001b[38;5;241m=\u001b[39m\u001b[38;5;124m'\u001b[39m\u001b[38;5;124minner\u001b[39m\u001b[38;5;124m'\u001b[39m)\n",
      "\u001b[1;32m      3\u001b[0m dfNoDischargeDate\u001b[38;5;241m.\u001b[39mhead()\n",
      "\n",
      "\u001b[0;31mNameError\u001b[0m: name 'filtered_icd_df' is not defined"
     ]
    }
   ],
   "source": [
    "#merge dfs to make dfs contain missing data\n",
    "dfNoDischargeDate = pd.merge(filtered_icd_df, dfNoDischargeDate, left_on=['BDSPPatientID', 'BDSPEncounterID'], right_on=['PatientID', 'EncounterID'], how='inner')\n",
    "dfNoDischargeDate.head()"
   ]
  },
  {
   "cell_type": "code",
   "execution_count": null,
   "metadata": {},
   "outputs": [],
   "source": [
    "excel_df = pd.read_excel('/home/cdac-c-15/Desktop/cardiac_filtered_orginal.xlsx')"
   ]
  },
  {
   "cell_type": "code",
   "execution_count": null,
   "metadata": {},
   "outputs": [],
   "source": [
    "#merge excel sheet with existing data\n",
    "# Assuming 'PatientID' and 'EncounterID' are columns in both DataFrames\n",
    "# and we want to update the 'Data_Column' in the Excel DataFrame\n",
    "\n",
    "for index, row in dfNoDischargeDate.iterrows():\n",
    "    id_value = row['PatientID']\n",
    "    encounter_id_value = row['EncounterID']\n",
    "    \n",
    "    # Find the index in the original Excel DataFrame\n",
    "    match_index = excel_df[(excel_df['PatientID'] == id_value) & (excel_df['EncounterID'] == encounter_id_value)].index\n",
    "    \n",
    "    # Update the Excel DataFrame with the new data\n",
    "    if not match_index.empty:\n",
    "        excel_df.loc[match_index, 'DischargeDate'] = row['NewDischargeDate']  # Replace 'Data_Column' with the actual column name to update\n",
    "\n",
    "print(\"Updated Excel DataFrame:\")\n",
    "print(excel_df)"
   ]
  }
 ],
 "metadata": {
  "kernelspec": {
   "display_name": "nax",
   "language": "python",
   "name": "python3"
  },
  "language_info": {
   "codemirror_mode": {
    "name": "ipython",
    "version": 3
   },
   "file_extension": ".py",
   "mimetype": "text/x-python",
   "name": "python",
   "nbconvert_exporter": "python",
   "pygments_lexer": "ipython3",
   "version": "3.11.9"
  }
 },
 "nbformat": 4,
 "nbformat_minor": 2
}
