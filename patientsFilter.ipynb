{
 "cells": [
  {
   "cell_type": "code",
   "execution_count": 40,
   "metadata": {},
   "outputs": [],
   "source": [
    "import pandas as pd\n",
    "from thunderpack import ThunderReader\n",
    "from openpyxl import load_workbook"
   ]
  },
  {
   "cell_type": "code",
   "execution_count": 41,
   "metadata": {},
   "outputs": [
    {
     "name": "stdout",
     "output_type": "stream",
     "text": [
      "12146\n"
     ]
    }
   ],
   "source": [
    "# read in all patients\n",
    "allPts = pd.read_excel('/media/cdac-c-15/External Drive/Dropbox/cardiac arrest project/cardiac_filtered_orginal .xlsx', sheet_name='cardiac_filtered_new')\n",
    "print(len(allPts))"
   ]
  },
  {
   "cell_type": "code",
   "execution_count": 42,
   "metadata": {},
   "outputs": [
    {
     "name": "stdout",
     "output_type": "stream",
     "text": [
      "10339\n"
     ]
    }
   ],
   "source": [
    "# exclude the first 1807 rows of the spreadsheet\n",
    "allPts = allPts.iloc[1807:]\n",
    "print(len(allPts))"
   ]
  },
  {
   "cell_type": "code",
   "execution_count": 43,
   "metadata": {},
   "outputs": [
    {
     "name": "stdout",
     "output_type": "stream",
     "text": [
      "8266\n",
      "7706\n"
     ]
    }
   ],
   "source": [
    "# exclude all patients with no discharge date or discharged on same day\n",
    "allPtsWDisch = allPts.dropna(subset=['HospitalDischargeDTS'])\n",
    "print(len(allPtsWDisch))\n",
    "\n",
    "admitDF = pd.to_datetime(allPtsWDisch['HospitalAdmitDTS']).dt.date\n",
    "dischargeDF = pd.to_datetime(allPtsWDisch['HospitalDischargeDTS']).dt.date\n",
    "\n",
    "mask = dischargeDF != admitDF\n",
    "allPtsWDisch = allPtsWDisch[mask]\n",
    "\n",
    "print(len(allPtsWDisch))"
   ]
  },
  {
   "cell_type": "code",
   "execution_count": 44,
   "metadata": {},
   "outputs": [
    {
     "name": "stdout",
     "output_type": "stream",
     "text": [
      "6844\n"
     ]
    }
   ],
   "source": [
    "# exclude patients with 'arrest' not in their 'reports'\n",
    "word = 'arrest'\n",
    "\n",
    "allPtsArrest = allPtsWDisch[allPtsWDisch['reports'].str.contains(word, case=False, na=False)]\n",
    "print(len(allPtsArrest))"
   ]
  },
  {
   "cell_type": "code",
   "execution_count": 45,
   "metadata": {},
   "outputs": [
    {
     "name": "stdout",
     "output_type": "stream",
     "text": [
      "3634\n"
     ]
    }
   ],
   "source": [
    "# exclude patients with eeg after 72hrs from admission date\n",
    "\n",
    "# convert both columns to dateTime format for easy comparison\n",
    "allPtsArrest.loc[:, 'StartTime'] = pd.to_datetime(allPtsArrest['StartTime'])\n",
    "\n",
    "allPtsEEG = allPtsArrest[(allPtsArrest['StartTime'] - allPtsArrest['HospitalAdmitDTS']) <= pd.Timedelta(hours=72)]\n",
    "print(len(allPtsEEG))"
   ]
  },
  {
   "cell_type": "code",
   "execution_count": 46,
   "metadata": {},
   "outputs": [
    {
     "name": "stdout",
     "output_type": "stream",
     "text": [
      "3148\n"
     ]
    }
   ],
   "source": [
    "# limit to only those from site 1\n",
    "siteOnePatients = allPtsArrest[allPtsArrest['SiteID'] != 'S0002']\n",
    "print(len(siteOnePatients))"
   ]
  },
  {
   "cell_type": "code",
   "execution_count": 47,
   "metadata": {},
   "outputs": [
    {
     "name": "stdout",
     "output_type": "stream",
     "text": [
      "484\n"
     ]
    }
   ],
   "source": [
    "#find the number of unique patients for site 1\n",
    "print(siteOnePatients['BDSPPatientID'].nunique())"
   ]
  },
  {
   "cell_type": "code",
   "execution_count": 48,
   "metadata": {},
   "outputs": [
    {
     "name": "stdout",
     "output_type": "stream",
     "text": [
      "3696\n"
     ]
    }
   ],
   "source": [
    "#limit to only those from site 2\n",
    "siteTwoPatients = allPtsArrest[allPtsArrest['SiteID'] != 'S0001']\n",
    "print(len(siteTwoPatients))"
   ]
  },
  {
   "cell_type": "code",
   "execution_count": 49,
   "metadata": {},
   "outputs": [
    {
     "name": "stdout",
     "output_type": "stream",
     "text": [
      "552\n"
     ]
    }
   ],
   "source": [
    "# find the number of unique patients for site 2\n",
    "print(siteTwoPatients['BDSPPatientID'].nunique())"
   ]
  },
  {
   "cell_type": "code",
   "execution_count": 50,
   "metadata": {},
   "outputs": [],
   "source": [
    "# # filter both datasets by the most recent to generate the chosen cohort\n",
    "# siteOnePatients.loc[:, 'HospitalAdmitDTS'] = pd.to_datetime(siteOnePatients['HospitalAdmitDTS'])\n",
    "# siteTwoPatients.loc[:, 'HospitalAdmitDTS'] = pd.to_datetime(siteTwoPatients['HospitalAdmitDTS'])\n",
    "\n",
    "# most_recent_admissions1 = siteOnePatients.groupby('BDSPPatientID')['HospitalAdmitDTS'].max().reset_index()\n",
    "# most_recent_admissions1 = most_recent_admissions1.sort_values(by='HospitalAdmitDTS', ascending=False)\n",
    "# # top_250_patients1 = most_recent_admissions1.head(250)\n",
    "# siteOnePatients = siteOnePatients[siteOnePatients['BDSPPatientID'].isin(top_250_patients1['BDSPPatientID'])]\n",
    "\n",
    "# most_recent_admissions2 = siteTwoPatients.groupby('BDSPPatientID')['HospitalAdmitDTS'].max().reset_index()\n",
    "# most_recent_admissions2 = most_recent_admissions2.sort_values(by='HospitalAdmitDTS', ascending=False)\n",
    "# # top_250_patients2 = most_recent_admissions2.head(400)\n",
    "# siteTwoPatients = siteTwoPatients[siteTwoPatients['BDSPPatientID'].isin(top_250_patients2['BDSPPatientID'])]"
   ]
  },
  {
   "cell_type": "code",
   "execution_count": 63,
   "metadata": {},
   "outputs": [
    {
     "name": "stdout",
     "output_type": "stream",
     "text": [
      "644\n"
     ]
    }
   ],
   "source": [
    "removePatients = pd.read_excel('/media/cdac-c-15/External Drive/Dropbox/cardiac arrest project/PCA CONCISE NEW(MGH.BWH).xlsx', sheet_name=None)\n",
    "removePatients = pd.concat(removePatients.values(), ignore_index=True)\n",
    "removePatients = set(removePatients['BDSPPatientID'])\n",
    "print(len(removePatients))"
   ]
  },
  {
   "cell_type": "code",
   "execution_count": 64,
   "metadata": {},
   "outputs": [],
   "source": [
    "siteOnePatients = siteOnePatients[~siteOnePatients['BDSPPatientID'].astype(str).isin(removePatients)]\n",
    "siteTwoPatients = siteTwoPatients[~siteTwoPatients['BDSPPatientID'].astype(str).isin(removePatients)]\n"
   ]
  },
  {
   "cell_type": "code",
   "execution_count": 65,
   "metadata": {},
   "outputs": [],
   "source": [
    "mask = ~siteOnePatients['BDSPPatientID'].isin(removePatients)\n",
    "siteOnePatients = siteOnePatients[mask]\n",
    "mask = ~siteTwoPatients['BDSPPatientID'].isin(removePatients)\n",
    "siteTwoPatients = siteTwoPatients[mask]"
   ]
  },
  {
   "cell_type": "code",
   "execution_count": 66,
   "metadata": {},
   "outputs": [
    {
     "name": "stdout",
     "output_type": "stream",
     "text": [
      "1854\n",
      "239\n",
      "1052\n",
      "152\n"
     ]
    }
   ],
   "source": [
    "print(len(siteOnePatients))\n",
    "print(siteOnePatients['BDSPPatientID'].nunique())\n",
    "print(len(siteTwoPatients))\n",
    "print(siteTwoPatients['BDSPPatientID'].nunique())\n"
   ]
  },
  {
   "cell_type": "code",
   "execution_count": 67,
   "metadata": {},
   "outputs": [],
   "source": [
    "# Create excel workbook to give rajib with all site 1 and site 2 patients on different pages\n",
    "path = '/home/cdac-c-15/Desktop/Final_Patients_Filtered.xlsx'\n",
    "\n",
    "# Concatenate the data if needed for any other operations\n",
    "allFilteredPatients = pd.concat([siteOnePatients, siteTwoPatients], axis=0)\n",
    "\n",
    "# Create an Excel writer object and write each DataFrame to a different sheet\n",
    "with pd.ExcelWriter(path, engine='openpyxl') as writer:\n",
    "    siteOnePatients.to_excel(writer, sheet_name='Site 1 Patients', index=False)\n",
    "    siteTwoPatients.to_excel(writer, sheet_name='Site 2 Patients', index=False)\n",
    "    allFilteredPatients.to_excel(writer, sheet_name='All Patients', index=False)"
   ]
  },
  {
   "cell_type": "code",
   "execution_count": 48,
   "metadata": {},
   "outputs": [],
   "source": [
    "# output siteOne patients to an excel workbook page \n",
    "path = '/media/cdac-c-15/Thunderpack/Dropbox/zz_EHR_Thunderpacks/MGB/thunderpack_adt_1m_MGB/'\n",
    "sheetName = 'Site One Filtered Patients'\n",
    "\n",
    "siteOnePatients.to_csv('siteOneAllPts.csv', index=False)\n",
    "\n",
    "# with pd.ExcelWriter(path, engine='openpyxl', mode='a') as writer:\n",
    "#     siteOnePatients.to_excel(writer, sheet_name=sheetName, index=False)"
   ]
  },
  {
   "cell_type": "code",
   "execution_count": 49,
   "metadata": {},
   "outputs": [],
   "source": [
    "# output siteTwo patients to an excel workbook page \n",
    "path = '/media/cdac-c-15/Thunderpack/Dropbox/zz_EHR_Thunderpacks/MGB/thunderpack_adt_1m_MGB/'\n",
    "sheetName = 'Site Two Filtered Patients'\n",
    "\n",
    "siteTwoPatients.to_csv('siteTwoAllPts.csv', index=False)\n",
    "\n",
    "# with pd.ExcelWriter(path, engine='openpyxl', mode='a') as writer:\n",
    "#     siteTwoPatients.to_excel(writer, sheet_name=sheetName, index=False)"
   ]
  }
 ],
 "metadata": {
  "kernelspec": {
   "display_name": "nax",
   "language": "python",
   "name": "python3"
  },
  "language_info": {
   "codemirror_mode": {
    "name": "ipython",
    "version": 3
   },
   "file_extension": ".py",
   "mimetype": "text/x-python",
   "name": "python",
   "nbconvert_exporter": "python",
   "pygments_lexer": "ipython3",
   "version": "3.11.9"
  }
 },
 "nbformat": 4,
 "nbformat_minor": 2
}
