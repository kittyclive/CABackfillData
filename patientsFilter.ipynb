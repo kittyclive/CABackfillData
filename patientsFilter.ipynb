{
 "cells": [
  {
   "cell_type": "code",
   "execution_count": 2,
   "metadata": {},
   "outputs": [],
   "source": [
    "import pandas as pd\n",
    "from thunderpack import ThunderReader\n",
    "from openpyxl import load_workbook"
   ]
  },
  {
   "cell_type": "code",
   "execution_count": 3,
   "metadata": {},
   "outputs": [
    {
     "name": "stdout",
     "output_type": "stream",
     "text": [
      "12146\n"
     ]
    }
   ],
   "source": [
    "# read in all patients\n",
    "allPts = pd.read_excel('/media/cdac-c-15/Thunderpack/Dropbox/cardiac arrest project/cardiac_filtered_orginal .xlsx', sheet_name='cardiac_filtered_new')\n",
    "print(len(allPts))"
   ]
  },
  {
   "cell_type": "code",
   "execution_count": 4,
   "metadata": {},
   "outputs": [
    {
     "name": "stdout",
     "output_type": "stream",
     "text": [
      "10339\n"
     ]
    }
   ],
   "source": [
    "# exclude the first 1807 rows of the spreadsheet\n",
    "allPts = allPts.iloc[1807:]\n",
    "print(len(allPts))"
   ]
  },
  {
   "cell_type": "code",
   "execution_count": 10,
   "metadata": {},
   "outputs": [
    {
     "name": "stdout",
     "output_type": "stream",
     "text": [
      "8266\n",
      "7706\n"
     ]
    }
   ],
   "source": [
    "# exclude all patients with no discharge date or discharged on same day\n",
    "allPtsWDisch = allPts.dropna(subset=['HospitalDischargeDTS'])\n",
    "print(len(allPtsWDisch))\n",
    "\n",
    "allPtsWDisch.loc[:, 'HospitalAdmitDTS'] = pd.to_datetime(allPtsWDisch['HospitalAdmitDTS']).dt.date\n",
    "allPtsWDisch.loc[:, 'HospitalDischargeDTS'] = pd.to_datetime(allPtsWDisch['HospitalDischargeDTS']).dt.date\n",
    "\n",
    "mask = allPtsWDisch['HospitalDischargeDTS'] != allPtsWDisch['HospitalAdmitDTS']\n",
    "allPtsWDisch = allPtsWDisch[mask]\n",
    "\n",
    "print(len(allPtsWDisch))"
   ]
  },
  {
   "cell_type": "code",
   "execution_count": 11,
   "metadata": {},
   "outputs": [
    {
     "name": "stdout",
     "output_type": "stream",
     "text": [
      "6844\n"
     ]
    }
   ],
   "source": [
    "# exclude patients with 'arrest' not in their 'reports'\n",
    "word = 'arrest'\n",
    "\n",
    "allPtsArrest = allPtsWDisch[allPtsWDisch['reports'].str.contains(word, case=False, na=False)]\n",
    "print(len(allPtsArrest))"
   ]
  },
  {
   "cell_type": "code",
   "execution_count": 12,
   "metadata": {},
   "outputs": [
    {
     "name": "stdout",
     "output_type": "stream",
     "text": [
      "3073\n"
     ]
    }
   ],
   "source": [
    "# exclude patients with eeg after 72hrs from admission date\n",
    "\n",
    "# convert both columns to dateTime format for easy comparison\n",
    "allPtsArrest.loc[:, 'StartTime'] = pd.to_datetime(allPtsArrest['StartTime'])\n",
    "\n",
    "allPtsEEG = allPtsArrest[(allPtsArrest['StartTime'] - allPtsArrest['HospitalAdmitDTS']) <= pd.Timedelta(hours=72)]\n",
    "print(len(allPtsEEG))"
   ]
  },
  {
   "cell_type": "code",
   "execution_count": 13,
   "metadata": {},
   "outputs": [
    {
     "name": "stdout",
     "output_type": "stream",
     "text": [
      "3148\n"
     ]
    }
   ],
   "source": [
    "# limit to only those from site 1\n",
    "siteOnePatients = allPtsArrest[allPtsArrest['SiteID'] != 'S0002']\n",
    "print(len(siteOnePatients))\n"
   ]
  },
  {
   "cell_type": "code",
   "execution_count": 14,
   "metadata": {},
   "outputs": [
    {
     "name": "stdout",
     "output_type": "stream",
     "text": [
      "484\n"
     ]
    }
   ],
   "source": [
    "#find the number of unique patients for site 1\n",
    "print(siteOnePatients['BDSPPatientID'].nunique())"
   ]
  },
  {
   "cell_type": "code",
   "execution_count": 15,
   "metadata": {},
   "outputs": [
    {
     "name": "stdout",
     "output_type": "stream",
     "text": [
      "3696\n"
     ]
    }
   ],
   "source": [
    "#limit to only those from site 2\n",
    "siteTwoPatients = allPtsArrest[allPtsArrest['SiteID'] != 'S0001']\n",
    "print(len(siteTwoPatients))"
   ]
  },
  {
   "cell_type": "code",
   "execution_count": 16,
   "metadata": {},
   "outputs": [
    {
     "name": "stdout",
     "output_type": "stream",
     "text": [
      "552\n"
     ]
    }
   ],
   "source": [
    "# find the number of unique patients for site 2\n",
    "print(siteTwoPatients['BDSPPatientID'].nunique())"
   ]
  },
  {
   "cell_type": "code",
   "execution_count": 52,
   "metadata": {},
   "outputs": [],
   "source": [
    "# Create excel workbook to give rajib with all site 1 and site 2 patients\n",
    "path = '/home/cdac-c-15/Desktop/Cardiac_arrest_filtered_patients.xlsx'\n",
    "allFilteredPatients = pd.concat([siteOnePatients, siteTwoPatients], axis=0)\n",
    "allFilteredPatients.to_excel(path, index=False)"
   ]
  },
  {
   "cell_type": "code",
   "execution_count": 48,
   "metadata": {},
   "outputs": [],
   "source": [
    "# output siteOne patients to an excel workbook page \n",
    "path = '/media/cdac-c-15/Thunderpack/Dropbox/zz_EHR_Thunderpacks/MGB/thunderpack_adt_1m_MGB/'\n",
    "sheetName = 'Site One Filtered Patients'\n",
    "\n",
    "siteOnePatients.to_csv('siteOneAllPts.csv', index=False)\n",
    "\n",
    "# with pd.ExcelWriter(path, engine='openpyxl', mode='a') as writer:\n",
    "#     siteOnePatients.to_excel(writer, sheet_name=sheetName, index=False)"
   ]
  },
  {
   "cell_type": "code",
   "execution_count": 49,
   "metadata": {},
   "outputs": [],
   "source": [
    "# output siteTwo patients to an excel workbook page \n",
    "path = '/media/cdac-c-15/Thunderpack/Dropbox/zz_EHR_Thunderpacks/MGB/thunderpack_adt_1m_MGB/'\n",
    "sheetName = 'Site Two Filtered Patients'\n",
    "\n",
    "siteTwoPatients.to_csv('siteTwoAllPts.csv', index=False)\n",
    "\n",
    "# with pd.ExcelWriter(path, engine='openpyxl', mode='a') as writer:\n",
    "#     siteTwoPatients.to_excel(writer, sheet_name=sheetName, index=False)"
   ]
  }
 ],
 "metadata": {
  "kernelspec": {
   "display_name": "nax",
   "language": "python",
   "name": "python3"
  },
  "language_info": {
   "codemirror_mode": {
    "name": "ipython",
    "version": 3
   },
   "file_extension": ".py",
   "mimetype": "text/x-python",
   "name": "python",
   "nbconvert_exporter": "python",
   "pygments_lexer": "ipython3",
   "version": "3.11.9"
  }
 },
 "nbformat": 4,
 "nbformat_minor": 2
}
